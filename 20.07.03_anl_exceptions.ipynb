{
 "cells": [
  {
   "cell_type": "markdown",
   "metadata": {
    "colab_type": "text",
    "id": "c2KtXmjxtgw-"
   },
   "source": [
    "# Исключения"
   ]
  },
  {
   "cell_type": "markdown",
   "metadata": {
    "colab_type": "text",
    "id": "0Vhx-zKitgxA"
   },
   "source": [
    "### Вопросы по лекциям."
   ]
  },
  {
   "cell_type": "markdown",
   "metadata": {
    "colab_type": "text",
    "id": "14lleKewtgxC"
   },
   "source": [
    "Как поймать вообще все ошибки, которые могут произойти?"
   ]
  },
  {
   "cell_type": "markdown",
   "metadata": {
    "colab_type": "text",
    "id": "VQnYGkVKtgxD"
   },
   "source": [
    "**Ответ:**\n",
    "<p>Поместить код для проверки в блок <strong>try</strong> и вывести ошибку через блок <strong>except</strong>. При этом в заголовке except не нужно указывать названий классов исключений.<p>"
   ]
  },
  {
   "cell_type": "markdown",
   "metadata": {
    "colab_type": "text",
    "id": "paSc2JE6tgxD"
   },
   "source": [
    "Сколько раз подряд можно указывать except?"
   ]
  },
  {
   "cell_type": "markdown",
   "metadata": {
    "colab_type": "text",
    "id": "bU0lzJPBtgxE"
   },
   "source": [
    "**Ответ:**\n",
    "<p>Блок <strong>except</strong> можно выводить неограниченное количество раз.<p>"
   ]
  },
  {
   "cell_type": "markdown",
   "metadata": {
    "colab_type": "text",
    "id": "9wQ-yXpGtgxF"
   },
   "source": [
    "Вы хотите с помощью print вывести название ошибки в консоль, как это сделать?"
   ]
  },
  {
   "cell_type": "markdown",
   "metadata": {
    "colab_type": "text",
    "id": "iE1iqRZctgxH"
   },
   "source": [
    "**Ответ:**\n",
    "<p>Вывести название ошибки через <strong>print</strong> можно посредством использования алиаса названия класса ошибки в заголовке блока <strong>except</strong> и его (алиаса) выводе в f-строке. Таким же образом можно выводить параметры ошибки<p>"
   ]
  },
  {
   "cell_type": "raw",
   "metadata": {
    "colab_type": "text",
    "id": "EDAi3ZFBtgxI"
   },
   "source": [
    "try:\n",
    "    file = open('text.txt')\n",
    "except OSError as exc:\n",
    "    print(f'Ошибка: {exc}; Параметры ошибки: {exc.args}')"
   ]
  },
  {
   "cell_type": "markdown",
   "metadata": {
    "colab_type": "text",
    "id": "leOCJIlRtgxK"
   },
   "source": [
    "Что такое DeprecationWarning?"
   ]
  },
  {
   "cell_type": "markdown",
   "metadata": {
    "colab_type": "text",
    "id": "KyaynuyvtgxL"
   },
   "source": [
    "**Ответ:**\n",
    "<p><strong>DeprecationWarning</strong> &ndash; это предупреждение, в основном в сторонних библиотеках, об отмене использования каких-либо функиций в последующих релизах.<p>"
   ]
  },
  {
   "cell_type": "markdown",
   "metadata": {
    "colab_type": "text",
    "id": "oxgCUHzotgxM"
   },
   "source": [
    "### Разминочные задания. \n",
    "<br>\n",
    "\n",
    "Вам даны две функции. Поисследуйте, какие ошибки могут возникнуть при их реализации. Обработайте эти ошибки."
   ]
  },
  {
   "cell_type": "code",
   "execution_count": 1,
   "metadata": {
    "colab": {},
    "colab_type": "code",
    "id": "X4nsMUUAtgxN"
   },
   "outputs": [
    {
     "name": "stdout",
     "output_type": "stream",
     "text": [
      "enter a number: 5\n",
      "enter another number: 4\n",
      "5 / 4 = 1.25\n",
      "enter a number: 3\n",
      "enter another number: 0\n",
      "Не получается\n"
     ]
    }
   ],
   "source": [
    "def div():\n",
    "    for i in range(2):\n",
    "        try:\n",
    "            x = int(input(\"enter a number: \"))\n",
    "            y = int(input(\"enter another number: \"))\n",
    "            print(x, '/', y, '=', x/y)\n",
    "        except (ZeroDivisionError, ValueError):\n",
    "            print(f'Не получается')\n",
    "div()"
   ]
  },
  {
   "cell_type": "code",
   "execution_count": 4,
   "metadata": {
    "colab": {},
    "colab_type": "code",
    "id": "hoDmt-nStgxS"
   },
   "outputs": [
    {
     "name": "stdout",
     "output_type": "stream",
     "text": [
      "Исключение: name 'a' is not defined\n"
     ]
    }
   ],
   "source": [
    "def sumOfPairs(L1, L2):\n",
    "    sum = 0\n",
    "    sumOfPairs = []\n",
    "    for i in range(len(L1)):\n",
    "        sumOfPairs.append(L1[i]+L2[i])\n",
    "\n",
    "    print(\"sumOfPairs = \", sumOfPairs)\n",
    "\n",
    "try:\n",
    "    sumOfPairs([10, a, 0], 1)\n",
    "except NameError as exc:\n",
    "    print(f'Исключение: {exc}')\n",
    "except TypeError as exc:\n",
    "    print(f'Исключение: {exc}')"
   ]
  },
  {
   "cell_type": "markdown",
   "metadata": {
    "colab_type": "text",
    "id": "geX0-Zq6tgxU"
   },
   "source": [
    "### Задание 1.\n",
    "\n",
    "Есть файл с протоколом регистраций пользователей на сайте (registrations.txt).<br>\n",
    "Каждая строка содержит информацию о имени, электронной почте и возрасте человека. <br><br>\n",
    "\n",
    "\n",
    "Надо проверить данные из файла, для каждой строки:\n",
    " - присутсвуют все три поля\n",
    " - поле имени содержит только буквы\n",
    " - поле email содержит @ и .\n",
    " - поле возраст является числом от 10 до 99<br>\n",
    "\n",
    "В результате проверки нужно сформировать два файла\n",
    " - registrations_good.log для правильных данных, записывать строки как есть\n",
    "- registrations_bad.log для ошибочных, записывать строку и вид ошибки.<br>\n",
    "\n",
    "Для валидации строки данных написать метод, который может выкидывать исключения:\n",
    " - НЕ присутсвуют все три поля: ValueError\n",
    " - поле имени содержит НЕ только буквы: NotNameError (кастомное исключение)\n",
    " - поле email НЕ содержит @ и .(точку): NotEmailError (кастомное исключение)\n",
    " - поле возраст НЕ является числом от 10 до 99: ValueError\n",
    "Вызов метода обернуть в try-except."
   ]
  },
  {
   "cell_type": "code",
   "execution_count": 2,
   "metadata": {},
   "outputs": [],
   "source": [
    "class NotNameError(Exception):\n",
    "    \n",
    "    def __init__(self, message, error_name = None):\n",
    "        self.message = message\n",
    "        self.error_name = error_name\n",
    "        \n",
    "    def __str__(self):\n",
    "        return self.message\n",
    "\n",
    "class NotEmailError(Exception):\n",
    "\n",
    "    def __init__(self, message, error_email = None):\n",
    "        self.message = message\n",
    "        self.error_email = error_email\n",
    "        \n",
    "    def __str__(self):\n",
    "        return self.message\n",
    "\n",
    "\n",
    "def validate(line):\n",
    "    \n",
    "    print(f'Строка: {line}')\n",
    "    \n",
    "    name, email, age = line.split(' ')\n",
    "    \n",
    "    for letter in name:\n",
    "        if not letter.isalpha():\n",
    "            raise NotNameError('Поле имени содержит НЕ только буквы', error_name = name)\n",
    "                \n",
    "    if '@' in email:\n",
    "        part1, part2 = email.split(\"@\")\n",
    "        if not '.' in part2:\n",
    "            raise NotEmailError('Поле email НЕ содержит точку', error_email = email) \n",
    "    else:\n",
    "        raise NotEmailError('Поле email НЕ содержит @', error_email = email)\n",
    "            \n",
    "    age = int(age)\n",
    "    if age < 10 or age > 99:\n",
    "        raise ValueError('Поле возраст НЕ является числом от 10 до 99')\n",
    "       \n",
    "    return line\n",
    "\n",
    "f =  None\n",
    "badlines = []\n",
    "\n",
    "try:\n",
    "    f = open('registrations_.txt', encoding=\"utf-8\")\n",
    "except IOError as exc:\n",
    "    print(f'I/O error: {exc}')\n",
    "else:\n",
    "    with open(\"registrations_good.log\", \"a\", encoding=\"utf-8\") as goodlog:\n",
    "        for line in f:\n",
    "            try:\n",
    "                goodline = validate(line)\n",
    "                goodlog.write(goodline)\n",
    "            except ValueError as exc:\n",
    "                if 'unpack' in exc.args[0]:\n",
    "                    badlines.append(line)\n",
    "                    print(f'Исключение: {exc}, не хватает операндов в строке {line}')\n",
    "                else:\n",
    "                    badlines.append(line)\n",
    "                    print(f'Исключение: {exc} в строке {line}')\n",
    "            except NotNameError as exc:\n",
    "                badlines.append(line)\n",
    "                print(f'Исключение: {exc}, не правильное имя {exc.error_name} в строке {line}')\n",
    "            except NotEmailError as exc:\n",
    "                badlines.append(line)\n",
    "                print(f'Исключение: {exc}, не правильный email {exc.error_email} в строке {line}')\n",
    "finally:\n",
    "    if f is not None:\n",
    "        f.close()\n",
    "\n",
    "with open(\"registrations_bad.log\", \"a\", encoding=\"utf-8\") as badlog:\n",
    "    for badline in badlines:\n",
    "        badlog.write(badline)\n"
   ]
  },
  {
   "cell_type": "raw",
   "metadata": {
    "colab": {},
    "colab_type": "code",
    "id": "Eq2Ax0LntgxW"
   },
   "source": [
    "try:\n",
    "    file = open('text.txt')\n",
    "except OSError as exc:\n",
    "    print(f'Ошибка: {exc}; Параметры ошибки: {exc.args}')"
   ]
  },
  {
   "cell_type": "raw",
   "metadata": {},
   "source": [
    "try:\n",
    "    i = 0\n",
    "    print(10 / i)\n",
    "except:\n",
    "    print(f'Нельзя делить на 0')"
   ]
  },
  {
   "cell_type": "raw",
   "metadata": {},
   "source": [
    "try:\n",
    "    i = 0\n",
    "    print(10 / i)\n",
    "except ZeroDivisionError:\n",
    "    print(f'Нельзя делить на 0')"
   ]
  },
  {
   "cell_type": "raw",
   "metadata": {},
   "source": [
    "try:\n",
    "    c = a + b\n",
    "    c = 10 / 0\n",
    "except (ZeroDivisionError, NameError):\n",
    "    print(f'Что-то пошло не так')"
   ]
  },
  {
   "cell_type": "raw",
   "metadata": {},
   "source": [
    "try:\n",
    "    c = 10 / 0\n",
    "    c = a + b\n",
    "except ZeroDivisionError:\n",
    "    print(f'Делить на 0 нельзя')\n",
    "except NameError:\n",
    "    print(f'Нет такой переменной')"
   ]
  },
  {
   "cell_type": "raw",
   "metadata": {},
   "source": [
    "try:\n",
    "    i = 0\n",
    "    print(10 / i)\n",
    "except ZeroDivisionError as exc:\n",
    "    print(f'Ошибка: {exc}')"
   ]
  },
  {
   "cell_type": "raw",
   "metadata": {},
   "source": [
    "try:   \n",
    "    c = a + b\n",
    "    c = 10 / 0\n",
    "except (ZeroDivisionError, NameError) as exc:\n",
    "    print(f'Ошибка: {exc}')"
   ]
  },
  {
   "cell_type": "raw",
   "metadata": {},
   "source": [
    "try:\n",
    "    file = open('text.txt')\n",
    "except OSError as exc:\n",
    "    print(f'Ошибка: {exc}; Параметры ошибки: {exc.args}')"
   ]
  },
  {
   "cell_type": "raw",
   "metadata": {},
   "source": [
    "def f1(number):\n",
    "    return 10 / number\n",
    "\n",
    "def f2():\n",
    "    summary = 0\n",
    "    for i in range(2, -1, -1):\n",
    "        summary += f1(number = i)\n",
    "        print(summary)\n",
    "    return summary\n",
    "\n",
    "# total = f2()\n",
    "try:\n",
    "    total = f2()\n",
    "except ZeroDivisionError as exc:\n",
    "    print(f'Ошибка: {exc}')"
   ]
  },
  {
   "cell_type": "raw",
   "metadata": {},
   "source": [
    "def f1(number):\n",
    "    return 10 / number\n",
    "\n",
    "def f2():\n",
    "    summary = 0\n",
    "    for i in range(2, -1, -1):\n",
    "        try:\n",
    "            summary += f1(number = i)\n",
    "            print(summary)\n",
    "        except ZeroDivisionError as exc:\n",
    "            print(f'Функция 1: {exc}')\n",
    "    # return summary / 0\n",
    "    return summary / 1\n",
    "\n",
    "\n",
    "try:\n",
    "    total = f2()\n",
    "    print(total)\n",
    "except ZeroDivisionError as exc:\n",
    "    print(f'Функция 2: {exc}')"
   ]
  },
  {
   "cell_type": "raw",
   "metadata": {},
   "source": [
    "def f1(number):\n",
    "    return totally / number\n",
    "\n",
    "def f2():\n",
    "    summary = 0\n",
    "    for i in range(2, -1, -1):\n",
    "        try:\n",
    "            summary += f1(number = i)\n",
    "            print(summary)\n",
    "        except ZeroDivisionError as exc:\n",
    "            print(f'Функция 1: {exc}')\n",
    "    return summary / 0\n",
    "\n",
    "try:\n",
    "    f2()\n",
    "except ZeroDivisionError as exc:\n",
    "    print(f'Функция 2: {exc}')"
   ]
  },
  {
   "cell_type": "raw",
   "metadata": {},
   "source": [
    "# i = 0\n",
    "i = 1\n",
    "try:\n",
    "    10 / i\n",
    "except ZeroDivisionError:\n",
    "    print(f'Нельзя делить на 0')\n",
    "else:\n",
    "    print(f'Успешно')"
   ]
  },
  {
   "cell_type": "raw",
   "metadata": {},
   "source": [
    "# i = 0\n",
    "i = 1\n",
    "try:\n",
    "    10 / i\n",
    "except ZeroDivisionError:\n",
    "    print(f'Нельзя делить на 0')\n",
    "else:\n",
    "    print(f'Успешно')\n",
    "finally:\n",
    "    print(f'До свидания')"
   ]
  },
  {
   "cell_type": "raw",
   "metadata": {},
   "source": [
    "f =  None\n",
    "try:\n",
    "    f = open('text1.txt')\n",
    "    s = f.readline()\n",
    "    i = int(s.strip())\n",
    "except IOError as exc:\n",
    "    print(f'I/O error: {exc}')\n",
    "except ValueError:\n",
    "    print(f'Не преобразуется в целое')\n",
    "except Exception as exc:\n",
    "    print(f'Любая другая ошибка: {exc}')\n",
    "else:\n",
    "    print(f'Прочитано i = {i}')\n",
    "finally:\n",
    "    if f is not None:\n",
    "        f.close()"
   ]
  },
  {
   "cell_type": "raw",
   "metadata": {},
   "source": [
    "with open('text1.txt') as ff:\n",
    "    first_line = ff.readline()\n",
    "print(first_line)"
   ]
  },
  {
   "cell_type": "raw",
   "metadata": {},
   "source": [
    "class InOutBlock:\n",
    "    def __enter__(self):\n",
    "        print('Вход')\n",
    "    def __exit__(self, exc_type, exc_val, exc_tb):\n",
    "        print(f'Выход: {exc_type}, {exc_val}, {exc_tb}')\n",
    "        return True\n",
    "\n",
    "with InOutBlock() as in_out:\n",
    "    print('Начало')\n",
    "    # a = s / h\n",
    "    a = 20 / 4\n",
    "    print(f'Расчет {a}')\n",
    "print('После выхода')"
   ]
  },
  {
   "cell_type": "raw",
   "metadata": {},
   "source": [
    "def greet_person(person_name):\n",
    "    if person_name == 'Robert':\n",
    "        raise BaseException(\"We don't want to greet you\")\n",
    "        \n",
    "    print(f'Hi, there {person_name}')\n",
    "\n",
    "greet_person('Dolly')\n",
    "greet_person('Robert')"
   ]
  },
  {
   "cell_type": "raw",
   "metadata": {},
   "source": [
    "try:\n",
    "    raise NameError('Привет Там')\n",
    "except NameError as exc:\n",
    "    print(f'Исключение: {type(exc)}, параметры: {exc.args}')\n",
    "    raise"
   ]
  },
  {
   "cell_type": "raw",
   "metadata": {},
   "source": [
    "try:\n",
    "    raise NameError('Привет Там')\n",
    "except NameError as exc:\n",
    "    print(f'Исключение: {type(exc)}, параметры: {exc.args}')\n",
    "    # raise TypeError('Привет Тут')\n",
    "    print(10 / 0)"
   ]
  },
  {
   "cell_type": "raw",
   "metadata": {},
   "source": [
    "class DivisionError(Exception):\n",
    "    \n",
    "    def __init__(self, message, input_data = None):\n",
    "        self.message = message\n",
    "        self.input_data = input_data\n",
    "        \n",
    "    def __str__(self):\n",
    "        return self.message\n",
    "    \n",
    "def division(a, b):\n",
    "    if a < b:\n",
    "        raise DivisionError('Нельзя делить меньшее на большее', input_data = dict(a = a, b = b))\n",
    "    return a / b\n",
    "\n",
    "\n",
    "try:\n",
    "    print(division(12, 24))\n",
    "except DivisionError as exc:\n",
    "    print(f'Поймано исключение: {exc}, параметры: {exc.input_data}')"
   ]
  },
  {
   "cell_type": "raw",
   "metadata": {},
   "source": [
    "import warnings\n",
    "\n",
    "def greet_person(person_name):\n",
    "    if person_name == 'Robert':\n",
    "        warnings.warn(\"We don't want to greet you\")\n",
    "        \n",
    "    print(f'Hi, there {person_name}')\n",
    "\n",
    "greet_person('Robert')\n",
    "print('Выполнение продолжается')\n",
    "for i in range(10):\n",
    "    print(f'i = {i}')"
   ]
  },
  {
   "cell_type": "raw",
   "metadata": {},
   "source": [
    "import warnings\n",
    "\n",
    "def greet_person(person_name):\n",
    "    if person_name == 'Robert':\n",
    "        warnings.warn(\"We don't want to greet you\", category = RuntimeWarning)\n",
    "        \n",
    "    print(f'Hi there, {person_name}!')\n",
    "    \n",
    "# warnings.simplefilter(\"ignore\")\n",
    "warnings.simplefilter(\"error\")\n",
    "\n",
    "try:\n",
    "    greet_person('Robert')\n",
    "    print('Выполнение продолжается')\n",
    "except RuntimeWarning:\n",
    "    print('Выполнение RuntimeWarning')\n",
    "    \n",
    "for i in range(10):\n",
    "    print(f'i = {i}')"
   ]
  },
  {
   "cell_type": "raw",
   "metadata": {},
   "source": [
    "total = 0\n",
    "\n",
    "with open('calc.txt', 'r') as ff:\n",
    "    for line in ff:\n",
    "        print(f'Read line {line}')\n",
    "        operand_1, operation, operand_2 = line.split(' ')\n",
    "        operand_1 = int(operand_1)\n",
    "        operand_2 = int(operand_2)\n",
    "        if operation == '+':\n",
    "            value = operand_1 + operand_2\n",
    "        elif operation == '-':\n",
    "            value = operand_1 - operand_2\n",
    "        elif operation == '*':\n",
    "            value = operand_1 * operand_2\n",
    "        elif operation == '/':\n",
    "            value = operand_1 / operand_2\n",
    "        elif operation == '//':\n",
    "            value = operand_1 // operand_2\n",
    "        elif operation == '%':\n",
    "            value = operand_1 % operand_2\n",
    "        else:\n",
    "            print(f'Unknown operation {operation}')\n",
    "            continue\n",
    "        total += value\n",
    "print(f'Total {total}')"
   ]
  },
  {
   "cell_type": "raw",
   "metadata": {},
   "source": [
    "def calc(line):\n",
    "        print(f'Read line {line}')\n",
    "        operand_1, operation, operand_2 = line.split(' ')\n",
    "        operand_1 = int(operand_1)\n",
    "        operand_2 = int(operand_2)\n",
    "        if operation == '+':\n",
    "            value = operand_1 + operand_2\n",
    "        elif operation == '-':\n",
    "            value = operand_1 - operand_2\n",
    "        elif operation == '*':\n",
    "            value = operand_1 * operand_2\n",
    "        elif operation == '/':\n",
    "            value = operand_1 / operand_2\n",
    "        elif operation == '//':\n",
    "            value = operand_1 // operand_2\n",
    "        elif operation == '%':\n",
    "            value = operand_1 % operand_2\n",
    "        else:\n",
    "            raise ValueError('Unknown operation {operation}')\n",
    "        return value\n",
    "\n",
    "total = 0\n",
    "\n",
    "with open('calc.txt', 'r') as ff:\n",
    "    for line in ff:\n",
    "        line = line[:-1]\n",
    "        try:\n",
    "            total += calc(line)\n",
    "        except ValueError as esc:\n",
    "            if 'unpack' in esc.args[0]:\n",
    "                print(f'Не хватает операндов {esc} в строке {line}')\n",
    "            else:\n",
    "                print(f'Не преобразовывается к целому {esc} в строке {line}')\n",
    "print(f'Total {total}')"
   ]
  }
 ],
 "metadata": {
  "colab": {
   "name": "jun_anl_exeptions.ipynb",
   "provenance": [],
   "version": "0.3.2"
  },
  "kernelspec": {
   "display_name": "Python 3",
   "language": "python",
   "name": "python3"
  },
  "language_info": {
   "codemirror_mode": {
    "name": "ipython",
    "version": 3
   },
   "file_extension": ".py",
   "mimetype": "text/x-python",
   "name": "python",
   "nbconvert_exporter": "python",
   "pygments_lexer": "ipython3",
   "version": "3.7.6"
  }
 },
 "nbformat": 4,
 "nbformat_minor": 1
}
