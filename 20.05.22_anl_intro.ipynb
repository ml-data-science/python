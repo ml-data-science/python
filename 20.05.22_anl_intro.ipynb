{
 "cells": [
  {
   "cell_type": "markdown",
   "metadata": {},
   "source": [
    "# Введение в Python"
   ]
  },
  {
   "cell_type": "markdown",
   "metadata": {},
   "source": [
    "### Задача 1\n",
    "\n",
    "Вычислите в Python:\n",
    "    \n",
    "$9^2 + 6^4$;\n",
    "\n",
    "$\\log(54)$ (натуральный логарифм);\n",
    "\n",
    "$\\sqrt{8} - \\sqrt{12}$;\n",
    "\n",
    "$\\sin(45) + \\cos(45)$."
   ]
  },
  {
   "cell_type": "code",
   "execution_count": 11,
   "metadata": {},
   "outputs": [
    {
     "data": {
      "text/plain": [
       "1377"
      ]
     },
     "execution_count": 11,
     "metadata": {},
     "output_type": "execute_result"
    }
   ],
   "source": [
    "9 ** 2 + 6 ** 4"
   ]
  },
  {
   "cell_type": "code",
   "execution_count": 12,
   "metadata": {},
   "outputs": [
    {
     "data": {
      "text/plain": [
       "3.9889840465642745"
      ]
     },
     "execution_count": 12,
     "metadata": {},
     "output_type": "execute_result"
    }
   ],
   "source": [
    "import math\n",
    "math.log(54)"
   ]
  },
  {
   "cell_type": "code",
   "execution_count": 13,
   "metadata": {},
   "outputs": [
    {
     "data": {
      "text/plain": [
       "-0.6356744903915641"
      ]
     },
     "execution_count": 13,
     "metadata": {},
     "output_type": "execute_result"
    }
   ],
   "source": [
    "math.sqrt(8) - math.sqrt(12)"
   ]
  },
  {
   "cell_type": "code",
   "execution_count": 14,
   "metadata": {},
   "outputs": [
    {
     "data": {
      "text/plain": [
       "1.3762255133518482"
      ]
     },
     "execution_count": 14,
     "metadata": {},
     "output_type": "execute_result"
    }
   ],
   "source": [
    "math.sin(45) + math.cos(45)"
   ]
  },
  {
   "cell_type": "markdown",
   "metadata": {},
   "source": [
    "### Задача 2\n",
    "\n",
    "Напишите программу, которая запрашивает у пользователя размер обуви, а выводит на экран размер скальных туфель (туфли для скалолазания), учитывая, что обычно размер скальных туфель на 2 размера меньше обычного.\n",
    "\n",
    "**Пример работы программы:**\n",
    "\n",
    "*Входные данные*\n",
    "\n",
    "    38\n",
    "\n",
    "*Выходные данные*\n",
    "\n",
    "    36"
   ]
  },
  {
   "cell_type": "code",
   "execution_count": 22,
   "metadata": {},
   "outputs": [
    {
     "name": "stdout",
     "output_type": "stream",
     "text": [
      "Введите размер обуви: 38\n"
     ]
    }
   ],
   "source": [
    "size = int(input(\"Введите размер обуви: \"))"
   ]
  },
  {
   "cell_type": "code",
   "execution_count": 23,
   "metadata": {},
   "outputs": [
    {
     "name": "stdout",
     "output_type": "stream",
     "text": [
      "36\n"
     ]
    }
   ],
   "source": [
    "size -= 2\n",
    "print(size)"
   ]
  },
  {
   "cell_type": "markdown",
   "metadata": {},
   "source": [
    "### Задача 3\n",
    "\n",
    "Тест по английскому языку состоит из трёх частей. Ученик последовательно вводит с клавиатуры набранные баллы за каждую часть – три целых числа. Каждое число вводится на отдельной строке, то есть `input()` запрашивается три раза. Напишите программу, которая считает итоговый балл за тест – сумму баллов за три части.\n",
    "\n",
    "**Пример работы программы:**\n",
    "\n",
    "*Входные данные*\n",
    "\n",
    "    5\n",
    "    4\n",
    "    6\n",
    "    \n",
    "*Выходные данные*\n",
    "\n",
    "    15"
   ]
  },
  {
   "cell_type": "code",
   "execution_count": 24,
   "metadata": {},
   "outputs": [
    {
     "name": "stdout",
     "output_type": "stream",
     "text": [
      "Первый результат: 5\n",
      "Второй результат: 4\n",
      "Третий результат: 6\n"
     ]
    }
   ],
   "source": [
    "part1 = int(input(\"Первый результат: \"))\n",
    "part2 = int(input(\"Второй результат: \"))\n",
    "part3 = int(input(\"Третий результат: \"))"
   ]
  },
  {
   "cell_type": "code",
   "execution_count": 25,
   "metadata": {},
   "outputs": [
    {
     "name": "stdout",
     "output_type": "stream",
     "text": [
      "15\n"
     ]
    }
   ],
   "source": [
    "score = part1 + part2 + part3\n",
    "print(score)"
   ]
  },
  {
   "cell_type": "markdown",
   "metadata": {},
   "source": [
    "### Задача 4\n",
    "\n",
    "В переменной `salary` хранится значение заработной платы человека в рублях (можете сами присвоить `salary` какое-нибудь значение).\n",
    "\n",
    "Напишите программу, которая выражает заработную плату человека в *тысячах рублей* и\n",
    "\n",
    "\n",
    "a) сохраняет результат в переменную `salary_th` и выводит результат на экран;\n",
    "\n",
    "b) выводит на экран сообщение (с подставленным вместо `___` значением):\n",
    "\n",
    "    Ваша заработная плата __ тысяч рублей.\n",
    "    \n",
    "**Пример работы программы (пункт a):**\n",
    "\n",
    "\n",
    "*Входные данные*\n",
    "\n",
    "    salary = 35000\n",
    "\n",
    "*Выходные данные*\n",
    "    \n",
    "    35\n",
    "    \n",
    "**Пример работы программы (пункт b):**\n",
    "\n",
    "\n",
    "*Входные данные*\n",
    "\n",
    "    salary = 35000\n",
    "\n",
    "*Выходные данные*\n",
    "    \n",
    "    Ваша заработная плата 35 тысяч рублей."
   ]
  },
  {
   "cell_type": "code",
   "execution_count": 28,
   "metadata": {},
   "outputs": [
    {
     "name": "stdout",
     "output_type": "stream",
     "text": [
      "35\n"
     ]
    }
   ],
   "source": [
    "salary = \"35000\"\n",
    "print(salary[:2])"
   ]
  },
  {
   "cell_type": "code",
   "execution_count": 29,
   "metadata": {},
   "outputs": [
    {
     "name": "stdout",
     "output_type": "stream",
     "text": [
      "Ваша заработная плата 35 тысяч рублей.\n"
     ]
    }
   ],
   "source": [
    "print(\"Ваша заработная плата \" + salary[:2] + \" тысяч рублей.\")"
   ]
  },
  {
   "cell_type": "code",
   "execution_count": 30,
   "metadata": {},
   "outputs": [
    {
     "name": "stdout",
     "output_type": "stream",
     "text": [
      "35\n"
     ]
    }
   ],
   "source": [
    "# Более длинный вариант\n",
    "salary = \"35000\"\n",
    "salary_th = salary[:2]\n",
    "print(salary_th)"
   ]
  },
  {
   "cell_type": "code",
   "execution_count": 31,
   "metadata": {},
   "outputs": [
    {
     "name": "stdout",
     "output_type": "stream",
     "text": [
      "Ваша заработная плата 35 тысяч рублей.\n"
     ]
    }
   ],
   "source": [
    "print(\"Ваша заработная плата \" + salary_th + \" тысяч рублей.\")"
   ]
  },
  {
   "cell_type": "markdown",
   "metadata": {},
   "source": [
    "### Задача 5\n",
    "\n",
    "Напишите программу, которая запрашивает у пользователя сумму (в рублях), которую он хочет перевести своему другу на карту другого банка, и возвращает сумму списания (в рублях) с учётом комиссии банка 5%.\n",
    "\n",
    "*Примечание:* считайте, что сумма перевода – целое число.\n",
    "\n",
    "**Пример работы программы:**\n",
    "\n",
    "*Входные данные*\n",
    "\n",
    "    1000\n",
    "\n",
    "*Выходные данные*\n",
    "\n",
    "    1050.0"
   ]
  },
  {
   "cell_type": "code",
   "execution_count": 1,
   "metadata": {},
   "outputs": [
    {
     "name": "stdout",
     "output_type": "stream",
     "text": [
      "Сумма для перевода, в рублях: 1000\n"
     ]
    }
   ],
   "source": [
    "to_send = int(input(\"Сумма для перевода, в рублях: \"))"
   ]
  },
  {
   "cell_type": "code",
   "execution_count": 2,
   "metadata": {},
   "outputs": [
    {
     "name": "stdout",
     "output_type": "stream",
     "text": [
      "Сумма к внесению с учетом комиссиии, в рублях: 1050.0\n"
     ]
    }
   ],
   "source": [
    "to_put = to_send * 1.05\n",
    "print(\"Сумма к внесению с учетом комиссиии, в рублях:\", to_put)"
   ]
  },
  {
   "cell_type": "markdown",
   "metadata": {},
   "source": [
    "### Задача 6\n",
    "\n",
    "Питон выполз на улицу погулять и решил поиграть: просил прохожих назвать какую-нибудь цифру (т.е. ввести её с клавиатуры) и приписывал эту цифру к цифре, которую назвал предыдущий прохожий. Напишите код, который позволит определить, какое число получится после опроса четырёх прохожих, если известно, что первый прохожий назвал цифру 5. Задача не подразумевает использование циклов; запускать код несколько раз / копировать строки кода или ячейки можно. Обратите внимание: в результате должно получиться *целое число*, не строка.\n",
    "\n",
    "**Пример-пояснение:** первый назвал цифру 5, второй ‒ цифру 6, третий ‒ 3. Получили число 563.\n",
    "\n",
    "**Пример работы программы:**\n",
    "\n",
    "*Входные данные*\n",
    "\n",
    "    5\n",
    "    6\n",
    "    3\n",
    "    0\n",
    "    \n",
    "*Выходные данные*\n",
    "    \n",
    "    5630\n",
    "\n",
    "**Подсказка:** для склеивания строк (такая операция называется *конкатенацией*) в Python используется `+`:"
   ]
  },
  {
   "cell_type": "code",
   "execution_count": 2,
   "metadata": {},
   "outputs": [
    {
     "name": "stdout",
     "output_type": "stream",
     "text": [
      "password\n"
     ]
    }
   ],
   "source": [
    "a = \"pass\"\n",
    "b = \"word\"\n",
    "\n",
    "print(a + b)"
   ]
  },
  {
   "cell_type": "code",
   "execution_count": 3,
   "metadata": {},
   "outputs": [
    {
     "name": "stdout",
     "output_type": "stream",
     "text": [
      "Назовите любую цифру: 5\n",
      "Назовите любую цифру: 6\n",
      "Назовите любую цифру: 3\n",
      "Назовите любую цифру: 0\n"
     ]
    }
   ],
   "source": [
    "first = input(\"Назовите любую цифру: \")\n",
    "second = input(\"Назовите любую цифру: \")\n",
    "third = input(\"Назовите любую цифру: \")\n",
    "fourth = input(\"Назовите любую цифру: \")"
   ]
  },
  {
   "cell_type": "code",
   "execution_count": 4,
   "metadata": {},
   "outputs": [
    {
     "name": "stdout",
     "output_type": "stream",
     "text": [
      "5630\n"
     ]
    }
   ],
   "source": [
    "print(first + second + third + fourth)"
   ]
  },
  {
   "cell_type": "markdown",
   "metadata": {},
   "source": [
    "### Задача 7* (дополнительная)\n",
    "\n",
    "Дано целое число `n`. Выведите следующее за ним чётное число. При решении этой задачи *нельзя* использовать условный оператор `if` и циклы.\n",
    "\n",
    "**Подсказка.** В Python существует оператор целочисленного деления `//` (обсуждалсся в видео-уроках) и взятия остатка при делении `%`. Например, результат выполнения операции `15 % 7` равен 1:"
   ]
  },
  {
   "cell_type": "code",
   "execution_count": 3,
   "metadata": {},
   "outputs": [
    {
     "data": {
      "text/plain": [
       "1"
      ]
     },
     "execution_count": 3,
     "metadata": {},
     "output_type": "execute_result"
    }
   ],
   "source": [
    "15 % 7 # 15 : 7 = 2 и 1 в остатке"
   ]
  },
  {
   "cell_type": "markdown",
   "metadata": {},
   "source": [
    "**Примеры работы программы**\n",
    "\n",
    "*Входные данные*\n",
    "\n",
    "    7\n",
    "\n",
    "*Выходные данные*\n",
    "\n",
    "    8\n",
    "\n",
    "*Входные данные*\n",
    "\n",
    "    8\n",
    "\n",
    "*Выходные данные*\n",
    "\n",
    "    10"
   ]
  },
  {
   "cell_type": "code",
   "execution_count": null,
   "metadata": {},
   "outputs": [],
   "source": [
    "n = int(input(\"Введите целое число: \"))"
   ]
  },
  {
   "cell_type": "code",
   "execution_count": null,
   "metadata": {},
   "outputs": [],
   "source": [
    "from math import floor\n",
    "next_n = n + ((n % floor(n / 2)) * -1 + 2) \n",
    "print(\"Следующее целое число\", next_n)"
   ]
  }
 ],
 "metadata": {
  "kernelspec": {
   "display_name": "Python 3",
   "language": "python",
   "name": "python3"
  },
  "language_info": {
   "codemirror_mode": {
    "name": "ipython",
    "version": 3
   },
   "file_extension": ".py",
   "mimetype": "text/x-python",
   "name": "python",
   "nbconvert_exporter": "python",
   "pygments_lexer": "ipython3",
   "version": "3.7.6"
  }
 },
 "nbformat": 4,
 "nbformat_minor": 2
}
