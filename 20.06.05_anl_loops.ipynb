{
 "cells": [
  {
   "cell_type": "markdown",
   "metadata": {
    "colab_type": "text",
    "id": "X9wfb-pqPzYu"
   },
   "source": [
    "# Циклы и условия."
   ]
  },
  {
   "cell_type": "markdown",
   "metadata": {
    "colab_type": "text",
    "id": "DMpu8uUoPzY0"
   },
   "source": [
    "## 1\n",
    "\n",
    "Напишите программу, которая будет запрашивать на вход числа (через запятую на одной строке) и выводить наибольшее значение из списка.\n",
    "<br><br>\n",
    "*Ограничение: нельзя пользоваться готовой функцией для нахождения максимума (например, `max()`), готовыми функциями и методами сортировки (например, `sort()`,`sorted()`).*"
   ]
  },
  {
   "cell_type": "code",
   "execution_count": 71,
   "metadata": {
    "colab": {},
    "colab_type": "code",
    "id": "dHs34-p-PzY3"
   },
   "outputs": [
    {
     "name": "stdout",
     "output_type": "stream",
     "text": [
      "Введите числа через запятую: 55,0,9,-1,0.2,34,122.5,7,0\n"
     ]
    }
   ],
   "source": [
    "numbers = input(\"Введите числа через запятую: \")"
   ]
  },
  {
   "cell_type": "code",
   "execution_count": 79,
   "metadata": {},
   "outputs": [
    {
     "name": "stdout",
     "output_type": "stream",
     "text": [
      "Наибольшее число: 122.5\n"
     ]
    }
   ],
   "source": [
    "items = [float(i) for i in numbers.split(',')]\n",
    "the_biggest = items[0]\n",
    "for item in items:\n",
    "    if  item > the_biggest:\n",
    "        the_biggest = item\n",
    "print(\"Наибольшее число:\", the_biggest)"
   ]
  },
  {
   "cell_type": "markdown",
   "metadata": {
    "colab_type": "text",
    "id": "sCF9Hd9rPzZD"
   },
   "source": [
    "##### 2\n",
    "\n",
    "Напишите программу, которая будет запрашивать на вход числа (каждое с новой строки) до тех пор, пока не будет введен ноль (0). На выход должно выводиться второе по величине значение.\n",
    "<br><br>\n",
    "*Ограничение: нельзя пользоваться готовой функцией для нахождения максимума (например, `max()`), готовыми функциями и методами сортировки (например, `sort()`,`sorted()`).*"
   ]
  },
  {
   "cell_type": "raw",
   "metadata": {
    "colab": {},
    "colab_type": "code",
    "id": "yrJk-mEjPzZF"
   },
   "source": [
    "nums = []\n",
    "num = int(input(\"Введи число: \"))\n",
    "# nums.append(num)\n",
    "while num != 0:\n",
    "    nums.append(num)\n",
    "    num = int(input(\"Давай еще: \"))\n",
    "    # nums.append(num)\n",
    "    if num == 0:\n",
    "        break\n",
    "print(nums)\n",
    "the_biggest = nums[0]\n",
    "for item in nums:\n",
    "    if  item > the_biggest:\n",
    "        the_second_biggest = the_biggest\n",
    "        the_biggest = item\n",
    "print(\"Второе по величине число:\", the_second_biggest)"
   ]
  },
  {
   "cell_type": "code",
   "execution_count": 4,
   "metadata": {},
   "outputs": [
    {
     "name": "stdout",
     "output_type": "stream",
     "text": [
      "Введите число: 2\n",
      "Еще раз: 7\n",
      "Еще раз: -5\n",
      "Еще раз: 1\n",
      "Еще раз: 100\n",
      "Еще раз: 34\n",
      "Еще раз: 45\n",
      "Еще раз: -3\n",
      "Еще раз: -3\n",
      "Еще раз: 25\n",
      "Еще раз: 0\n",
      "Второе по величине число: 45\n"
     ]
    }
   ],
   "source": [
    "num = int(input(\"Введите число: \"))\n",
    "# the_biggest = the_second_biggest = num # Без учета нуля\n",
    "the_biggest = the_second_biggest = 0 # С учетом нуля\n",
    "while num:\n",
    "    if  num > the_biggest:\n",
    "        the_second_biggest, the_biggest = the_biggest, num\n",
    "    elif  (the_second_biggest < num < the_biggest) or (num < the_second_biggest == the_biggest):\n",
    "        the_second_biggest = num\n",
    "    num = int(input(\"Еще раз: \"))\n",
    "print(\"Второе по величине число:\", the_second_biggest)"
   ]
  },
  {
   "cell_type": "markdown",
   "metadata": {
    "colab_type": "text",
    "id": "fdJZMUtGPzZN"
   },
   "source": [
    "### 3\n",
    "\n",
    "Напишите программу, которая принимает на вход год, а на выход выдает количество дней в этом году."
   ]
  },
  {
   "cell_type": "code",
   "execution_count": 9,
   "metadata": {
    "colab": {},
    "colab_type": "code",
    "id": "Dk6PDx-jPzZP"
   },
   "outputs": [
    {
     "name": "stdout",
     "output_type": "stream",
     "text": [
      "Введите год: 2000\n"
     ]
    }
   ],
   "source": [
    "year = int(input(\"Введите год: \"))"
   ]
  },
  {
   "cell_type": "code",
   "execution_count": 10,
   "metadata": {},
   "outputs": [
    {
     "name": "stdout",
     "output_type": "stream",
     "text": [
      "В этом високосном году 366 дней\n"
     ]
    }
   ],
   "source": [
    "if year % 4 != 0 or (year % 100 == 0 and year % 400 != 0):\n",
    "    print(\"В этом году 365 дней\")\n",
    "else:\n",
    "    print(\"В этом високосном году 366 дней\")"
   ]
  },
  {
   "cell_type": "markdown",
   "metadata": {
    "colab_type": "text",
    "id": "wFGBh0dYPzZV"
   },
   "source": [
    "### 4\n",
    "\n",
    "Напишите программу, которая на вход получает координаты двух клеток шахматной доски и выводит соощение о том, являются ли эти клетки одного цвета."
   ]
  },
  {
   "cell_type": "code",
   "execution_count": 42,
   "metadata": {
    "colab": {},
    "colab_type": "code",
    "id": "k-8POcqGPzZW"
   },
   "outputs": [
    {
     "name": "stdout",
     "output_type": "stream",
     "text": [
      "Введите координаты первой клетки, например E2: A1\n",
      "Введите координаты второй клетки, например E4: E2\n"
     ]
    }
   ],
   "source": [
    "cell1 = input(\"Введите координаты первой клетки, например E2: \")\n",
    "cell2 = input(\"Введите координаты второй клетки, например E4: \")"
   ]
  },
  {
   "cell_type": "code",
   "execution_count": 43,
   "metadata": {},
   "outputs": [
    {
     "name": "stdout",
     "output_type": "stream",
     "text": [
      "Шахматные клетки разных цветов\n"
     ]
    }
   ],
   "source": [
    "letters = ['A', 'B', 'C', 'D', 'E', 'F', 'G', 'H']\n",
    "horizontal_1 = int(letters.index(cell1[0]) + 1)\n",
    "vertical_1 = int(cell1[1])\n",
    "horizontal_2 = int(letters.index(cell2[0]) + 1)\n",
    "vertical_2 = int(cell2[1])\n",
    "if (horizontal_1 + vertical_1 + horizontal_2 + vertical_2) % 2:\n",
    "    print(\"Шахматные клетки разных цветов\")\n",
    "else:\n",
    "    if vertical_1 % 2:\n",
    "        print(\"Шахматные клетки черного цвета\")\n",
    "    else:\n",
    "        print(\"Шахматные клетки белого цвета\")"
   ]
  },
  {
   "cell_type": "markdown",
   "metadata": {
    "colab_type": "text",
    "id": "O594rz0tPzZb"
   },
   "source": [
    "### 5\n",
    "\n",
    "Напишите программу, которая на вход получает число, а на выходе сообщает, простое это число или составное."
   ]
  },
  {
   "cell_type": "code",
   "execution_count": 120,
   "metadata": {
    "colab": {},
    "colab_type": "code",
    "id": "-Oy1AesyPzZd"
   },
   "outputs": [
    {
     "name": "stdout",
     "output_type": "stream",
     "text": [
      "Введите натуральное число больше единицы: 857\n"
     ]
    }
   ],
   "source": [
    "number = int(input(\"Введите натуральное число больше единицы: \"))"
   ]
  },
  {
   "cell_type": "code",
   "execution_count": 121,
   "metadata": {},
   "outputs": [
    {
     "name": "stdout",
     "output_type": "stream",
     "text": [
      "857 - простое число\n"
     ]
    }
   ],
   "source": [
    "for n in range (2, number):\n",
    "    if (number % n) == 0:\n",
    "        print (number, \"- составное число\")\n",
    "        break\n",
    "    elif (number // n) == 1:\n",
    "        print (number, \"- простое число\")\n",
    "        break\n",
    "else:\n",
    "    print (\"2 - простое число\")"
   ]
  },
  {
   "cell_type": "markdown",
   "metadata": {
    "colab_type": "text",
    "id": "QzBAQaW8PzZg"
   },
   "source": [
    "### 6\n",
    "\n",
    "Напишите программу, которая на вход получает целое число больше 2 и выводит по нему его наименьший натуральный делитель, отличный от 1."
   ]
  },
  {
   "cell_type": "code",
   "execution_count": 11,
   "metadata": {
    "colab": {},
    "colab_type": "code",
    "id": "Z2QzgAYKPzZi"
   },
   "outputs": [
    {
     "name": "stdout",
     "output_type": "stream",
     "text": [
      "Введите целое число больше двух: 121\n"
     ]
    }
   ],
   "source": [
    "num = int(input(\"Введите целое число больше двух: \"))"
   ]
  },
  {
   "cell_type": "raw",
   "metadata": {},
   "source": [
    "for i in range(2, num // 2):\n",
    "    if num % i == 0:\n",
    "        print(i)\n",
    "        break\n",
    "else:\n",
    "    print(\"Наименьший натуральный делитель после одного:\", num)"
   ]
  },
  {
   "cell_type": "code",
   "execution_count": 12,
   "metadata": {},
   "outputs": [
    {
     "name": "stdout",
     "output_type": "stream",
     "text": [
      "Наименьший натуральный делитель после одного: 11\n"
     ]
    }
   ],
   "source": [
    "k = 2\n",
    "while num % k != 0:\n",
    "    k += 1\n",
    "print(\"Наименьший натуральный делитель после одного:\", k)"
   ]
  },
  {
   "cell_type": "markdown",
   "metadata": {
    "colab_type": "text",
    "id": "Mdg_IAfFPzZk"
   },
   "source": [
    "### 7\n",
    "\n",
    "Напишите программу, которая поможет составить план тренировок для подготовки к марафону. Она получает на вход число километров на планируемом марафоне, сколько пользователь планирует пробежать в первый день тренировок и на сколько процентов планирует увеличивать каждый день это расстояние. На выходе программа должна выдавать, сколько дней пользователю потребуется для того, чтобы подготовиться пробежать целевое количество километров.\n",
    "<br><br>\n",
    "*Ограничение: нельзя пользоваться функцией `ceil()` из модуля `math` и ее аналогами.*"
   ]
  },
  {
   "cell_type": "code",
   "execution_count": 232,
   "metadata": {
    "colab": {},
    "colab_type": "code",
    "id": "mXeF6AMWPzZl"
   },
   "outputs": [
    {
     "name": "stdout",
     "output_type": "stream",
     "text": [
      "Введите целевое расстояние в километрах: 50\n",
      "Введите показатель первого дня тренировок в километрах: 30\n",
      "Введите ежедневный прирост показателя в процентах: 20\n"
     ]
    }
   ],
   "source": [
    "kpi = int(input(\"Введите целевое расстояние в километрах: \"))\n",
    "km = int(input(\"Введите показатель первого дня тренировок в километрах: \"))\n",
    "interest_per_day = int(input(\"Введите ежедневный прирост показателя в процентах: \"))"
   ]
  },
  {
   "cell_type": "code",
   "execution_count": 233,
   "metadata": {},
   "outputs": [
    {
     "name": "stdout",
     "output_type": "stream",
     "text": [
      "Потребуется 5 дней подготовки спортсмена\n"
     ]
    }
   ],
   "source": [
    "interest_per_day_in_km = km * (interest_per_day / 100)\n",
    "days = 1\n",
    "while km < kpi:\n",
    "    km = km + interest_per_day_in_km\n",
    "    days += 1\n",
    "print(\"Потребуется \" + str(days) + \" дней подготовки спортсмена\")"
   ]
  },
  {
   "cell_type": "markdown",
   "metadata": {
    "colab_type": "text",
    "id": "sxKoWpYKPzZo"
   },
   "source": [
    "### 8\n",
    "\n",
    "Напишите программу, которая на вход получает число n и считает по нему сумму 1²+2²+3²+...+n².\n",
    "<br><br>\n",
    "*Ограничение: нельзя пользоваться функцией `sum()` и ее аналогами.*"
   ]
  },
  {
   "cell_type": "code",
   "execution_count": 152,
   "metadata": {
    "colab": {},
    "colab_type": "code",
    "id": "RiPlWLm6PzZp"
   },
   "outputs": [
    {
     "name": "stdout",
     "output_type": "stream",
     "text": [
      "Введите натуральное число: 7\n"
     ]
    }
   ],
   "source": [
    "natural_number = int(input(\"Введите натуральное число: \"))"
   ]
  },
  {
   "cell_type": "code",
   "execution_count": 154,
   "metadata": {},
   "outputs": [
    {
     "name": "stdout",
     "output_type": "stream",
     "text": [
      "Сумма квадратов от 1 до 7 равна: 140\n"
     ]
    }
   ],
   "source": [
    "squares_sum = 0\n",
    "for i in range(1, natural_number + 1): \n",
    "    squares_sum += i**2\n",
    "print(\"Сумма квадратов от 1 до \" + str(natural_number) + \" равна:\", squares_sum)"
   ]
  },
  {
   "cell_type": "markdown",
   "metadata": {
    "colab_type": "text",
    "id": "aXzG4-wdPzZr"
   },
   "source": [
    "## 9\n",
    "\n",
    "Напишите программу, которая на вход получает число n и считает по нему сумму сумму 1! + 2! + 3! + ... + n!\n",
    "<br><br>\n",
    "*Ограничение: нельзя пользоваться готовой функцией `factorial()` из модуля `math`, функцией `sum()` и их аналогами.*"
   ]
  },
  {
   "cell_type": "code",
   "execution_count": 157,
   "metadata": {
    "colab": {},
    "colab_type": "code",
    "id": "KBEXUEDQPzZs"
   },
   "outputs": [
    {
     "name": "stdout",
     "output_type": "stream",
     "text": [
      "Введите натуральное число: 8\n"
     ]
    }
   ],
   "source": [
    "number = int(input(\"Введите натуральное число: \"))"
   ]
  },
  {
   "cell_type": "code",
   "execution_count": 158,
   "metadata": {},
   "outputs": [
    {
     "name": "stdout",
     "output_type": "stream",
     "text": [
      "Сумма факториалов от 1 до 8 равна: 46233\n"
     ]
    }
   ],
   "source": [
    "factorials_sum = 0\n",
    "for k in range(1, number + 1):\n",
    "    factorial = 1\n",
    "    for i in range(1, k + 1):\n",
    "        factorial *= i\n",
    "    factorials_sum += factorial\n",
    "print(\"Сумма факториалов от 1 до \" + str(number) + \" равна:\", factorials_sum)"
   ]
  },
  {
   "cell_type": "markdown",
   "metadata": {
    "colab_type": "text",
    "id": "4nsOuiWVPzZu"
   },
   "source": [
    "### 10\n",
    "\n",
    "Напишите программу, которая получает на вход последовательность чисел (каждое число с новой строки до того момента, пока пользователь не введет 0) и считает количество четных элементов в последовательности."
   ]
  },
  {
   "cell_type": "code",
   "execution_count": 235,
   "metadata": {
    "colab": {},
    "colab_type": "code",
    "id": "xktF2cocPzZv"
   },
   "outputs": [
    {
     "name": "stdout",
     "output_type": "stream",
     "text": [
      "Введите число: 5\n",
      "Еще раз: 6\n",
      "Еще раз: 7\n",
      "Еще раз: 8\n",
      "Еще раз: 9\n",
      "Еще раз: 9\n",
      "Еще раз: 0\n",
      "Количество четных чисел в ряду: 2\n"
     ]
    }
   ],
   "source": [
    "num = int(input(\"Введите число: \"))\n",
    "count = 0\n",
    "while num:\n",
    "    if  num % 2 == 0:\n",
    "        count += 1\n",
    "    num = int(input(\"Еще раз: \"))\n",
    "print(\"Количество четных чисел в ряду:\", count)"
   ]
  },
  {
   "cell_type": "markdown",
   "metadata": {
    "colab_type": "text",
    "id": "hyC9QGXPPzZx"
   },
   "source": [
    "### 11\n",
    "\n",
    "Напишите программу, которая формирует список игроков женской команды по футболу. Программа должна записывать возраст и пол претендента. Возраст должен запрашиваться после пола и только в том случае, если пол претендента женский. Если пол претендента мужской, программа должна сообщать о том, что он не подходит. Возраст претенденток должен быть от 18 до 35 лет. Если кандидат удовлетворяет требованиям, должно появляться соответствующее сообщение."
   ]
  },
  {
   "cell_type": "code",
   "execution_count": null,
   "metadata": {
    "colab": {},
    "colab_type": "code",
    "id": "qSDK-zQ4PzZx"
   },
   "outputs": [],
   "source": [
    "sex = input(\"Введите Ваш пол: \")\n",
    "male = ['м', 'муж', 'мужской']\n",
    "female = ['ж', 'жен', 'женский']\n",
    "if sex in male:\n",
    "    print(\"К сожалению, нам требуются только девушки\")\n",
    "elif sex in female:\n",
    "    age = int(input(\"Введите Ваш возраст: \"))\n",
    "    # if age in range(18, 36):\n",
    "    if 17 < age < 36: # Лучше по производительности\n",
    "        print(\"Отлично, Вы то нам и нужны!\")\n",
    "    else:\n",
    "        print(\"Что-то пошло не так\")\n",
    "else:\n",
    "    print(\"Попробуйте еще раз\")"
   ]
  },
  {
   "cell_type": "markdown",
   "metadata": {
    "colab_type": "text",
    "id": "B4JAB8AqPzZ0"
   },
   "source": [
    "### 12\n",
    "\n",
    "\n",
    "Напишите программу, которая на вход получает максимальную ширину ромба и рисует его. Гарантируется, что входное число всегда нечетное.\n",
    " \n",
    "Пример вывода для числа 5:\n",
    "```  \n",
    "  *\n",
    " ***\n",
    "*****\n",
    " ***\n",
    "  *```"
   ]
  },
  {
   "cell_type": "code",
   "execution_count": 13,
   "metadata": {
    "colab": {},
    "colab_type": "code",
    "id": "WVp7O75oPzZ0"
   },
   "outputs": [
    {
     "name": "stdout",
     "output_type": "stream",
     "text": [
      "Введите нечётное число: 11\n"
     ]
    }
   ],
   "source": [
    "odd = int(input(\"Введите нечётное число: \"))"
   ]
  },
  {
   "cell_type": "code",
   "execution_count": 15,
   "metadata": {},
   "outputs": [
    {
     "name": "stdout",
     "output_type": "stream",
     "text": [
      "     *          \n",
      "    ***        \n",
      "   *****      \n",
      "  *******    \n",
      " *********  \n",
      "***********\n",
      " *********  \n",
      "  *******    \n",
      "   *****      \n",
      "    ***        \n",
      "     *          \n"
     ]
    }
   ],
   "source": [
    "if odd % 2 == 1:\n",
    "    for i in range(1, odd, 2):\n",
    "        i = ' ' * ((odd - i) // 2)  + '*' * i + ' ' * (odd - i)\n",
    "        print(i)\n",
    "    for i in range(odd, 0, -2):\n",
    "        i = ' ' * ((odd - i) // 2)  + '*' * i + ' ' * (odd - i)\n",
    "        print(i)"
   ]
  },
  {
   "cell_type": "markdown",
   "metadata": {
    "colab_type": "text",
    "id": "xrIXWj0yPzZ2"
   },
   "source": [
    "### 13\n",
    "\n",
    "Напишите программу, которeqая запрашивает у пользователя сторону квадрата и символ, а затем рисует этот символ по диагоналям квадрата. Гарантируется, что входное число всегда нечетное.\n",
    " \n",
    "Пример вывода для числа 5:\n",
    "```\n",
    " \n",
    "#   #\n",
    " # #\n",
    "  #  \n",
    " # #\n",
    "#   #\n",
    "```"
   ]
  },
  {
   "cell_type": "code",
   "execution_count": 125,
   "metadata": {},
   "outputs": [
    {
     "name": "stdout",
     "output_type": "stream",
     "text": [
      "Введите нечётное число: 7\n",
      "Введите символ: '\n"
     ]
    }
   ],
   "source": [
    "odd = int(input(\"Введите нечётное число: \"))\n",
    "symbol = input(\"Введите символ: \")"
   ]
  },
  {
   "cell_type": "code",
   "execution_count": 126,
   "metadata": {},
   "outputs": [
    {
     "name": "stdout",
     "output_type": "stream",
     "text": [
      "'     '\n",
      " '   ' \n",
      "  ' '  \n",
      "   '   \n",
      "  ' '  \n",
      " '   ' \n",
      "'     '\n"
     ]
    }
   ],
   "source": [
    "if odd % 2 == 1:\n",
    "    line = [' '] * odd\n",
    "    for i in range(0, odd):\n",
    "        line[i] = symbol\n",
    "        line[odd - 1 - i] = symbol\n",
    "        print(''.join(line))\n",
    "        line[i] = ' '\n",
    "        line[odd - 1 - i] = ' '"
   ]
  },
  {
   "cell_type": "markdown",
   "metadata": {
    "colab_type": "text",
    "id": "3GaiPsFYPzZ_"
   },
   "source": [
    "### 14\n",
    "\n",
    "В корзине лежат шары. Если разложить их в кучи по 2, останется один. Если разложить в кучи по 3, останется один. Если разложить в кучи по 4, останется один. Если разложить в кучи по 5, останется один. Если разложить в кучи по 6, останется один. Если разложить в кучи по 7, не будет остатка. Нужно найти минимальное количество шаров, удовлетворяющее условию.  <br>"
   ]
  },
  {
   "cell_type": "code",
   "execution_count": 13,
   "metadata": {
    "colab": {
     "base_uri": "https://localhost:8080/",
     "height": 32
    },
    "colab_type": "code",
    "executionInfo": {
     "elapsed": 1380,
     "status": "ok",
     "timestamp": 1571844968537,
     "user": {
      "displayName": "Анастасия Рогачевская",
      "photoUrl": "https://lh3.googleusercontent.com/a-/AAuE7mB92snW1RMZTGvFBrPMpd_BzLIeP2XnbSZ3ZNVFUQ=s64",
      "userId": "07714489023974728369"
     },
     "user_tz": -180
    },
    "id": "V2msEhQkPzZ_",
    "outputId": "c36c996d-347b-430f-f53e-65e37eb23108"
   },
   "outputs": [
    {
     "name": "stdout",
     "output_type": "stream",
     "text": [
      "Минимальное количество шаров: 301\n"
     ]
    }
   ],
   "source": [
    "def circle(result_list):\n",
    "    for k in result_list:\n",
    "        if k == 0:\n",
    "            return False\n",
    "    return True\n",
    "\n",
    "n = 1000000000000\n",
    "for i in range(7, n, 7):\n",
    "    if circle([i % 2 == 1, i % 3 == 1, i % 4 == 1, i % 5 == 1, i % 6 == 1, i % 7 == 0]):\n",
    "        print(\"Минимальное количество шаров:\", i)\n",
    "        break"
   ]
  },
  {
   "cell_type": "markdown",
   "metadata": {
    "colab_type": "text",
    "id": "5pOjlON-PzaC"
   },
   "source": [
    "### 15\n",
    "\n",
    "Рабочие клеили обои на стены. Первую стену поклеили за M минут, а каждую следующую на 5 минут больше, чем предыдущую.\n",
    "Напишите программу, которая запрашивает сколько стен было в квартире под поклейку, а также время работы с первой стеной. Программа должна выводить, сколько **часов** рабочие потратили на поклейку обоев во всей квартире. Ответом должно быть целое число.\n",
    "<br><br>\n",
    "*Ограничение: нельзя пользоваться готовыми функциями `bool()`, `floor()` и их аналогами.*"
   ]
  },
  {
   "cell_type": "code",
   "execution_count": 20,
   "metadata": {
    "colab": {},
    "colab_type": "code",
    "id": "Pmu96rWGPzaD"
   },
   "outputs": [
    {
     "name": "stdout",
     "output_type": "stream",
     "text": [
      "Введите количество стен: 12\n",
      "Введите время в часах на поклейку первой стены: 2\n"
     ]
    }
   ],
   "source": [
    "walls = int(input(\"Введите количество стен: \"))\n",
    "time_per_wall_in_hours = int(input(\"Введите время в часах на поклейку первой стены: \"))"
   ]
  },
  {
   "cell_type": "code",
   "execution_count": 22,
   "metadata": {},
   "outputs": [
    {
     "name": "stdout",
     "output_type": "stream",
     "text": [
      "Для поклейки 12 стен потребуется 30 часов\n"
     ]
    }
   ],
   "source": [
    "time_per_wall_in_minutes = time_per_wall_in_hours * 60\n",
    "total_time = 0\n",
    "increment_per_wall_in_minutes = 0\n",
    "wall = 0\n",
    "while wall < walls:\n",
    "    wall += 1\n",
    "    total_time += time_per_wall_in_minutes\n",
    "    total_time += increment_per_wall_in_minutes\n",
    "    increment_per_wall_in_minutes += 5\n",
    "total_time_in_hours = total_time // 60 + (total_time % 60 != 0)\n",
    "print(\"Для поклейки \" + str(walls) + \" стен потребуется \" + str(total_time_in_hours) + \" часов\")"
   ]
  },
  {
   "cell_type": "markdown",
   "metadata": {
    "colab_type": "text",
    "id": "63C6Za3CPzaF"
   },
   "source": [
    "### 16\n",
    "\n",
    "Напишите программу, которая убирает из списка повторяющиеся элементы. Программа должна запрашивать на вход слова, каждое с новой строки, пока пользователь не введет пустую строку. Затем должна выводить список без повторяющихся элементов. \n",
    "<br><br>\n",
    "*Ограничение: нельзя пользоваться готовой функцией `set()` и ее аналогами.*"
   ]
  },
  {
   "cell_type": "code",
   "execution_count": 3,
   "metadata": {
    "colab": {},
    "colab_type": "code",
    "id": "MQ-eDkbAPzaG"
   },
   "outputs": [
    {
     "name": "stdout",
     "output_type": "stream",
     "text": [
      "Введите слово: слово\n",
      "Еще слово: слава\n",
      "Еще слово: слава\n",
      "Еще слово: \n",
      "Список названных слов: ['слово', 'слава']\n"
     ]
    }
   ],
   "source": [
    "word = input(\"Введите слово: \")\n",
    "words = []\n",
    "while word:\n",
    "    if not word in words:\n",
    "        words += [word]\n",
    "    word = input(\"Еще слово: \")\n",
    "print(\"Список названных слов:\", words)"
   ]
  },
  {
   "cell_type": "markdown",
   "metadata": {
    "colab_type": "text",
    "id": "jueSDORaPzaI"
   },
   "source": [
    "### 17\n",
    "\n",
    "Напишите программу, которая выводит число пар одинаковых элементов в списке. Программа должна запрашивать на вход слова, каждое с новой строки, пока пользователь не введет пустую строку. "
   ]
  },
  {
   "cell_type": "code",
   "execution_count": 10,
   "metadata": {
    "colab": {},
    "colab_type": "code",
    "id": "49tbEr3NPzaJ"
   },
   "outputs": [
    {
     "name": "stdout",
     "output_type": "stream",
     "text": [
      "Введите слово: число\n",
      "Еще слово: ремесло\n",
      "Еще слово: коромысло\n",
      "Еще слово: числа\n",
      "Еще слово: число\n",
      "Еще слово: ремесло\n",
      "Еще слово: ремесло\n",
      "Еще слово: \n",
      "Число пар одинаковых элементов в списке: 3\n"
     ]
    }
   ],
   "source": [
    "input_word = input(\"Введите слово: \")\n",
    "words_list = []\n",
    "pairs = 0\n",
    "while input_word:\n",
    "    if input_word in words_list:\n",
    "        pairs += 1\n",
    "    words_list += [input_word]\n",
    "    input_word = input(\"Еще слово: \")\n",
    "print(\"Число пар одинаковых элементов в списке:\", pairs)"
   ]
  },
  {
   "cell_type": "markdown",
   "metadata": {
    "colab_type": "text",
    "id": "yVLcBrD-PzaN"
   },
   "source": [
    "### 18\n",
    "\n",
    "Будем считать, что кубик может иметь неограниченное количество граней (натуральное число). Напишите программу, которая запрашивает, сколько граней имеется у двух разных кубиков. Затем выводит все возможные комбинации результатов бросков двух таких кубиков. "
   ]
  },
  {
   "cell_type": "code",
   "execution_count": 1,
   "metadata": {},
   "outputs": [
    {
     "name": "stdout",
     "output_type": "stream",
     "text": [
      "Введите количество граней первого кубика: 3\n",
      "Введите количество граней второго кубика: 4\n"
     ]
    }
   ],
   "source": [
    "# cube**2 - (cube**2 - cube)/2 # Проверка количества уникальных комбинаций для двух одинаковых кубиков\n",
    "cube_1 = int(input(\"Введите количество граней первого кубика: \"))\n",
    "cube_2 = int(input(\"Введите количество граней второго кубика: \"))"
   ]
  },
  {
   "cell_type": "code",
   "execution_count": 14,
   "metadata": {},
   "outputs": [
    {
     "name": "stdout",
     "output_type": "stream",
     "text": [
      "Комбинация №1: 1 1\n",
      "Комбинация №2: 1 2\n",
      "Комбинация №3: 1 3\n",
      "Комбинация №4: 1 4\n",
      "Комбинация №5: 2 1\n",
      "Комбинация №6: 2 2\n",
      "Комбинация №7: 2 3\n",
      "Комбинация №8: 2 4\n",
      "Комбинация №9: 3 1\n",
      "Комбинация №10: 3 2\n",
      "Комбинация №11: 3 3\n",
      "Комбинация №12: 3 4\n"
     ]
    }
   ],
   "source": [
    "count = 0\n",
    "combination = []\n",
    "for i in range(1, cube_1 + 1):\n",
    "    for k in range(1, cube_2 + 1):\n",
    "        count += 1\n",
    "        combination.append([i, k])\n",
    "        print(\"Комбинация №\"  + str(count) + \":\", i, k)"
   ]
  },
  {
   "cell_type": "code",
   "execution_count": 15,
   "metadata": {},
   "outputs": [
    {
     "name": "stdout",
     "output_type": "stream",
     "text": [
      "[[1, 1], [4, 1], [1, 2], [2, 2], [2, 4], [1, 3], [3, 2], [3, 3], [4, 3]]\n"
     ]
    }
   ],
   "source": [
    "for n in combination:\n",
    "    n[0], n[1] = n[1], n[0]\n",
    "    if combination.count(n) > 1:\n",
    "        combination.remove(n)\n",
    "print(combination)"
   ]
  },
  {
   "cell_type": "code",
   "execution_count": 16,
   "metadata": {},
   "outputs": [
    {
     "name": "stdout",
     "output_type": "stream",
     "text": [
      "Уникальная комбинация №1: 1 1\n",
      "Уникальная комбинация №2: 4 1\n",
      "Уникальная комбинация №3: 1 2\n",
      "Уникальная комбинация №4: 2 2\n",
      "Уникальная комбинация №5: 2 4\n",
      "Уникальная комбинация №6: 1 3\n",
      "Уникальная комбинация №7: 3 2\n",
      "Уникальная комбинация №8: 3 3\n",
      "Уникальная комбинация №9: 4 3\n"
     ]
    }
   ],
   "source": [
    "count2 = 0\n",
    "for j in combination:\n",
    "    count2 += 1\n",
    "    print(\"Уникальная комбинация №\"  + str(count2) + \":\", j[0], j[1])"
   ]
  },
  {
   "cell_type": "code",
   "execution_count": null,
   "metadata": {},
   "outputs": [],
   "source": []
  }
 ],
 "metadata": {
  "colab": {
   "name": "jun_anl_loops_and_ifs_СКРИПТ.ipynb",
   "provenance": []
  },
  "kernelspec": {
   "display_name": "Python 3",
   "language": "python",
   "name": "python3"
  },
  "language_info": {
   "codemirror_mode": {
    "name": "ipython",
    "version": 3
   },
   "file_extension": ".py",
   "mimetype": "text/x-python",
   "name": "python",
   "nbconvert_exporter": "python",
   "pygments_lexer": "ipython3",
   "version": "3.7.6"
  }
 },
 "nbformat": 4,
 "nbformat_minor": 1
}
